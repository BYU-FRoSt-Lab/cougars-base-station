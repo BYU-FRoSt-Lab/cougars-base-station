{
 "cells": [
  {
   "cell_type": "code",
   "execution_count": null,
   "id": "386e8516",
   "metadata": {},
   "outputs": [],
   "source": [
    "# Dependancies. Uncomment to automatically install.\n",
    "# %pip install rosbags\n",
    "# %pip install pandas\n",
    "# %pip install numpy\n",
    "# %pip install matplotlib"
   ]
  },
  {
   "cell_type": "code",
   "execution_count": null,
   "id": "7abd2dfc",
   "metadata": {},
   "outputs": [],
   "source": [
    "import utils.rosbags_converter as rc\n",
    "from utils.seatrac_enums import CST_E\n",
    "import utils.plotter_utils as p_utils\n",
    "import pandas as pd\n",
    "import numpy as np\n",
    "import matplotlib.pyplot as plt\n",
    "from matplotlib.ticker import MaxNLocator"
   ]
  },
  {
   "cell_type": "markdown",
   "id": "a1cff789",
   "metadata": {},
   "source": [
    "# Settings\n",
    "- RELOAD: If true, converts rosbags. Otherwise assumes rosbags are already converted\n",
    "- ROSBAGS_DIR: Directory where your rosbags are stored. Can contain multiple bags\n",
    "- SAVES_DIR: The directory to save converted csv files (to save time reloading)\n",
    "- VERBOSE: Print non-essential values"
   ]
  },
  {
   "cell_type": "code",
   "execution_count": null,
   "id": "a5437d2d",
   "metadata": {},
   "outputs": [],
   "source": [
    "RELOAD = False\n",
    "VERBOSE = False\n",
    "ROSBAGS_DIR = \"../../bag\"\n",
    "SAVES_DIR = ROSBAGS_DIR+\"/converted_bags/coug2\"\n",
    "ROSMSGS_DIR = \"../../cougars-ros2/src\""
   ]
  },
  {
   "cell_type": "code",
   "execution_count": null,
   "id": "1a69dbf5",
   "metadata": {},
   "outputs": [],
   "source": [
    "# Convert Rosbags\n",
    "\n",
    "if RELOAD:\n",
    "    print(\"converting rosbags\")\n",
    "    dataframes = p_utils.get_dataframes(\n",
    "        rosbags_dir=ROSBAGS_DIR, rosmsgs_dir=ROSMSGS_DIR, csv_dir=SAVES_DIR,\n",
    "        keywords=None, topics=None,verbose=VERBOSE)\n",
    "else:\n",
    "    print(\"loading dataframes\")\n",
    "    dataframes = rc.load_dataframes(SAVES_DIR, keywords=None, verbose=VERBOSE)\n",
    "    if len(dataframes)==0:\n",
    "        raise RuntimeError(\"Lenth of dataframes is 0. Dataframes may not be loaded\")\n",
    "print(\"dataframes loaded\")"
   ]
  },
  {
   "cell_type": "markdown",
   "id": "2a2b0204",
   "metadata": {},
   "source": [
    "---"
   ]
  },
  {
   "cell_type": "code",
   "execution_count": null,
   "id": "61f5c171",
   "metadata": {},
   "outputs": [],
   "source": [
    "# converts ros header.stamp.sec and header.stamp.nanosec into pandas Timestamps objects\n",
    "# and adds a new column \"timestamp\" to \n",
    "p_utils.insert_timestamps(dataframes)"
   ]
  },
  {
   "cell_type": "code",
   "execution_count": null,
   "id": "1ee46a9b",
   "metadata": {},
   "outputs": [],
   "source": [
    "# GPS\n",
    "for path, bag in dataframes.items():\n",
    "    print(path)\n",
    "\n",
    "    # Print GPS timeline. Green = Good fix. Orange = bad fix.\n",
    "    gps_fix = p_utils.get_topic(bag, \"/extended_fix\")\n",
    "    if gps_fix is None: continue\n",
    "    good_gps_mask = gps_fix[\"status.status\"]!=-1\n",
    "    good_gps_ts = gps_fix[\"timestamp\"][good_gps_mask]\n",
    "    ok_gps = gps_fix[\"timestamp\"][gps_fix[\"latitude\"]!=0]\n",
    "    fig, ax = plt.subplots(figsize=(8, .3))\n",
    "    ax.plot(ok_gps, [0]*len(ok_gps), 'o', color=\"orange\", markersize='3')\n",
    "    ax.plot(good_gps_ts, [0]*len(good_gps_ts), 'go', markersize='3')\n",
    "    plt.show()\n",
    "    \n",
    "    gps_odom = p_utils.get_topic(bag, \"/gps_odom\")\n",
    "    good_gps_odom = gps_odom[gps_odom[\"timestamp\"].isin(good_gps_ts)]\n",
    "    if gps_odom is None: continue\n",
    "    fig, ax = plt.subplots()\n",
    "    p_utils.plot_pose_w_cov(gps_odom, ax=ax)\n",
    "    plt.show()"
   ]
  },
  {
   "cell_type": "code",
   "execution_count": null,
   "id": "83f7ac6d",
   "metadata": {},
   "outputs": [],
   "source": [
    "import utils.plotter_utils as p_utils\n",
    "# DVL path\n",
    "# for path, bag in dataframes.items():\n",
    "#     print(path)\n",
    "#     for topic in bag.keys():\n",
    "#         if topic.endswith(\"/dvl/position\"):\n",
    "#             dvl_df = bag[topic]\n",
    "#             plt.plot(dvl_df[\"position.x\"], dvl_df[\"position.y\"])\n",
    "#             plt.plot([dvl_df[\"position.x\"].iloc[0]], [dvl_df[\"position.y\"].iloc[0]], 'o')\n",
    "#             plt.show()\n",
    "\n",
    "for path, bag in dataframes.items():\n",
    "    print(path)\n",
    "    dvl_odom = p_utils.get_topic(bag, \"/dvl/dead_reckoning\")\n",
    "    if dvl_odom is None: continue\n",
    "    ax = p_utils.plot_pose_w_cov(dvl_odom)"
   ]
  },
  {
   "cell_type": "code",
   "execution_count": null,
   "id": "c49bca36",
   "metadata": {},
   "outputs": [],
   "source": [
    "ax = p_utils.plot_mahalanobis_ellipse(1,2,[[1,0],[0,1]])\n",
    "p_utils.plot_mahalanobis_ellipse(1,-2,[[1,0],[0,1]], ax=ax)\n",
    "plt.show()"
   ]
  }
 ],
 "metadata": {
  "kernelspec": {
   "display_name": "Python 3",
   "language": "python",
   "name": "python3"
  },
  "language_info": {
   "codemirror_mode": {
    "name": "ipython",
    "version": 3
   },
   "file_extension": ".py",
   "mimetype": "text/x-python",
   "name": "python",
   "nbconvert_exporter": "python",
   "pygments_lexer": "ipython3",
   "version": "3.10.12"
  }
 },
 "nbformat": 4,
 "nbformat_minor": 5
}
