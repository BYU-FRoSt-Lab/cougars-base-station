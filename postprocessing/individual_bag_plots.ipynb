{
 "cells": [
  {
   "cell_type": "code",
   "execution_count": 1,
   "id": "386e8516",
   "metadata": {},
   "outputs": [],
   "source": [
    "# Dependancies\n",
    "# %pip install rosbags\n",
    "# %pip install pandas\n",
    "# %pip install numpy\n",
    "# %pip install matplotlib"
   ]
  },
  {
   "cell_type": "code",
   "execution_count": 2,
   "id": "7abd2dfc",
   "metadata": {},
   "outputs": [
    {
     "name": "stderr",
     "output_type": "stream",
     "text": [
      "/home/claytonsmith/.local/lib/python3.10/site-packages/matplotlib/projections/__init__.py:63: UserWarning: Unable to import Axes3D. This may be due to multiple versions of Matplotlib being installed (e.g. as a system package and as a pip package). As a result, the 3D projection is not available.\n",
      "  warnings.warn(\"Unable to import Axes3D. This may be due to multiple versions of \"\n"
     ]
    }
   ],
   "source": [
    "import utils.rosbags_converter as rc\n",
    "from utils.seatrac_enums import CST_E\n",
    "import utils.plotter_utils as u\n",
    "import pandas as pd\n",
    "import numpy as np\n",
    "import matplotlib.pyplot as plt\n",
    "from matplotlib.ticker import MaxNLocator"
   ]
  },
  {
   "cell_type": "markdown",
   "id": "a1cff789",
   "metadata": {},
   "source": [
    "# Settings\n",
    "- RELOAD: If true, converts rosbags. Otherwise assumes rosbags are already converted\n",
    "- ROSBAGS_DIR: Directory where your rosbags are stored. Can contain multiple bags\n",
    "- SAVES_DIR: The directory to save converted csv files (to save time reloading)\n",
    "- VERBOSE: Print non-essential values"
   ]
  },
  {
   "cell_type": "code",
   "execution_count": 3,
   "id": "a5437d2d",
   "metadata": {},
   "outputs": [],
   "source": [
    "RELOAD = False\n",
    "VERBOSE = False\n",
    "ROSBAGS_DIR = \"../../bag\"\n",
    "SAVES_DIR = ROSBAGS_DIR+\"/converted_bags\"\n",
    "ROSMSGS_DIR = \"../../cougars-ros2/src\""
   ]
  },
  {
   "cell_type": "code",
   "execution_count": 4,
   "id": "1a69dbf5",
   "metadata": {},
   "outputs": [
    {
     "name": "stdout",
     "output_type": "stream",
     "text": [
      "loading dataframes\n",
      "dataframes loaded\n"
     ]
    }
   ],
   "source": [
    "# Convert Rosbags\n",
    "\n",
    "if RELOAD:\n",
    "    print(\"converting rosbags\")\n",
    "    dataframes = u.get_dataframes(\n",
    "        rosbags_dir=ROSBAGS_DIR,\n",
    "        rosmsgs_dir=ROSMSGS_DIR,\n",
    "        csv_dir=SAVES_DIR,\n",
    "        keywords=None,\n",
    "        topics=None,\n",
    "        verbose=VERBOSE)\n",
    "else:\n",
    "    print(\"loading dataframes\")\n",
    "    dataframes = rc.load_dataframes(SAVES_DIR, keywords=None, verbose=VERBOSE)\n",
    "    if len(dataframes)==0:\n",
    "        raise RuntimeError(\"Lenth of dataframes is 0. Dataframes may not be loaded\")\n",
    "print(\"dataframes loaded\")"
   ]
  },
  {
   "cell_type": "code",
   "execution_count": null,
   "id": "30dbc7ee",
   "metadata": {},
   "outputs": [],
   "source": []
  }
 ],
 "metadata": {
  "kernelspec": {
   "display_name": "Python 3",
   "language": "python",
   "name": "python3"
  },
  "language_info": {
   "codemirror_mode": {
    "name": "ipython",
    "version": 3
   },
   "file_extension": ".py",
   "mimetype": "text/x-python",
   "name": "python",
   "nbconvert_exporter": "python",
   "pygments_lexer": "ipython3",
   "version": "3.10.12"
  }
 },
 "nbformat": 4,
 "nbformat_minor": 5
}
