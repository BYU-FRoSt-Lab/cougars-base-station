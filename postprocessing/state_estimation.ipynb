{
 "cells": [
  {
   "cell_type": "markdown",
   "id": "d9261b57",
   "metadata": {},
   "source": [
    "# Coug Data Visualization"
   ]
  },
  {
   "cell_type": "code",
   "execution_count": 9,
   "id": "1e526fd6",
   "metadata": {},
   "outputs": [],
   "source": [
    "# imports\n",
    "import rosbags_converter as rc\n",
    "import pandas as pd\n",
    "import matplotlib.pyplot as plt"
   ]
  },
  {
   "cell_type": "code",
   "execution_count": 10,
   "id": "13ffca50",
   "metadata": {},
   "outputs": [],
   "source": [
    "# User Variables\n",
    "\n",
    "ROSBAGS_DIR = \"~/so_apr_18_bags\"\n",
    "SAVES_DIR = \"converted_bags\"\n",
    "\n",
    "MISSION_KEYWORDS = [\"5.5\"]\n",
    "VEHCILE_NAMESPACES = [\"/coug1\", \"/coug2\"]\n",
    "VEHICLE_IDS = [1,2]\n",
    "\n",
    "VERBOSE=True"
   ]
  },
  {
   "cell_type": "code",
   "execution_count": 11,
   "id": "d174e5ec",
   "metadata": {},
   "outputs": [
    {
     "name": "stdout",
     "output_type": "stream",
     "text": [
      "Loading /home/claytonsmith/Documents/cougUV/CoUGARs/cougars-base-station/postprocessing/converted_bags/coug3_bluey/converted__SO_5.5_multi-2025-04-04-20-54-41\n",
      "Loading /home/claytonsmith/Documents/cougUV/CoUGARs/cougars-base-station/postprocessing/converted_bags/base_station/converted__SO_5.5_multi\n",
      "Loading /home/claytonsmith/Documents/cougUV/CoUGARs/cougars-base-station/postprocessing/converted_bags/coug1/converted__so_5.5_multi-2025-04-18-16-42-57\n",
      "Loading /home/claytonsmith/Documents/cougUV/CoUGARs/cougars-base-station/postprocessing/converted_bags/coug2/converted__SO_5.5_multi-2025-04-18-16-42-59\n"
     ]
    }
   ],
   "source": [
    "# Convert Rosbags\n",
    "dataframes = rc.load_dataframes(SAVES_DIR, keywords=MISSION_KEYWORDS, verbose=True)\n",
    "if len(dataframes)==0:\n",
    "    print(\"converting rosbags\")\n",
    "    typestore = rc.generate_typestore(\"../../cougars-ros2/src\")\n",
    "    dataframes = rc.convert_rosbags(ROSBAGS_DIR, typestore, \n",
    "                                    keywords=MISSION_KEYWORDS,verbose=VERBOSE)\n",
    "    rc.save_to_csv(dataframes, SAVES_DIR, verbose=VERBOSE)\n",
    "    dataframes = rc.load_dataframes(SAVES_DIR, keywords=MISSION_KEYWORDS)"
   ]
  },
  {
   "cell_type": "code",
   "execution_count": 12,
   "id": "a96ae6b2",
   "metadata": {},
   "outputs": [
    {
     "name": "stdout",
     "output_type": "stream",
     "text": [
      "coug3_bluey/converted__SO_5.5_multi-2025-04-04-20-54-41:\n",
      "\t['/coug3/dvl/data', '/coug3/modem_rec', '/coug3/dvl/position', '/coug3/modem_status', '/coug3/dvl/velocity', '/coug3/depth_data', '/coug3/dvl/dead_reckoning', '/coug3/modem_imu', '/coug3/pressure/data', '/tf', '/coug3/dvl/dr_global']\n",
      "base_station/converted__SO_5.5_multi:\n",
      "\t['/modem_rec', '/modem_send', '/modem_status', '/modem_cmd_update']\n",
      "coug1/converted__so_5.5_multi-2025-04-18-16-42-57:\n",
      "\t['/coug1/extended_fix', '/coug1/dvl/dr_global', '/coug1/modem_rec', '/coug1/controls/command', '/coug1/dvl/dead_reckoning', '/coug1/gps_odom', '/coug1/desired_heading', '/coug1/modem_status', '/coug1/modem_imu', '/coug1/leak/data', '/coug1/safety_status', '/coug1/controls/debug', '/coug1/fix', '/coug1/pressure/data', '/coug1/battery/data', '/coug1/depth_data', '/tf', '/coug1/dvl/position', '/coug1/kinematics/command', '/coug1/desired_speed', '/coug1/desired_depth']\n",
      "coug2/converted__SO_5.5_multi-2025-04-18-16-42-59:\n",
      "\t['/coug2/desired_heading', '/coug2/controls/command', '/coug2/controls/debug', '/coug2/fix', '/coug2/dvl/dr_global', '/coug2/dvl/position', '/coug2/leak/data', '/coug2/safety_status', '/coug2/depth_data', '/coug2/battery/data', '/coug2/pressure/data', '/coug2/extended_fix', '/coug2/gps_odom', '/coug2/dvl/dead_reckoning', '/coug2/modem_rec', '/coug2/modem_status', '/coug2/modem_imu', '/coug2/desired_depth', '/coug2/kinematics/command', '/tf', '/coug2/desired_speed', '/tf_static']\n"
     ]
    }
   ],
   "source": [
    "# display topics by rosbag\n",
    "for path, topics in dataframes.items():\n",
    "    print(f\"{path}:\\n\\t{list(topics.keys())}\")"
   ]
  },
  {
   "cell_type": "code",
   "execution_count": 13,
   "id": "6b952913",
   "metadata": {},
   "outputs": [
    {
     "name": "stdout",
     "output_type": "stream",
     "text": [
      "['/coug3/dvl/data', '/coug3/modem_rec', '/coug3/dvl/position', '/coug3/modem_status', '/coug3/dvl/velocity', '/coug3/depth_data', '/coug3/dvl/dead_reckoning', '/coug3/modem_imu', '/coug3/pressure/data', '/tf', '/coug3/dvl/dr_global', '/modem_rec', '/modem_send', '/modem_status', '/modem_cmd_update', '/coug1/extended_fix', '/coug1/dvl/dr_global', '/coug1/modem_rec', '/coug1/controls/command', '/coug1/dvl/dead_reckoning', '/coug1/gps_odom', '/coug1/desired_heading', '/coug1/modem_status', '/coug1/modem_imu', '/coug1/leak/data', '/coug1/safety_status', '/coug1/controls/debug', '/coug1/fix', '/coug1/pressure/data', '/coug1/battery/data', '/coug1/depth_data', '/coug1/dvl/position', '/coug1/kinematics/command', '/coug1/desired_speed', '/coug1/desired_depth', '/coug2/desired_heading', '/coug2/controls/command', '/coug2/controls/debug', '/coug2/fix', '/coug2/dvl/dr_global', '/coug2/dvl/position', '/coug2/leak/data', '/coug2/safety_status', '/coug2/depth_data', '/coug2/battery/data', '/coug2/pressure/data', '/coug2/extended_fix', '/coug2/gps_odom', '/coug2/dvl/dead_reckoning', '/coug2/modem_rec', '/coug2/modem_status', '/coug2/modem_imu', '/coug2/desired_depth', '/coug2/kinematics/command', '/coug2/desired_speed', '/tf_static']\n"
     ]
    }
   ],
   "source": [
    "# lists dataframes by topic. \n",
    "# Assumes all vehicles have only one loaded mission and different namespaces\n",
    "# Check previous cell output to confirm this is the case\n",
    "dfsByTopic = {}\n",
    "for topic_dfs in dataframes.values(): dfsByTopic.update(topic_dfs)\n",
    "print(list(dfsByTopic.keys()))"
   ]
  },
  {
   "cell_type": "code",
   "execution_count": 14,
   "id": "5a2f6f45",
   "metadata": {},
   "outputs": [
    {
     "name": "stdout",
     "output_type": "stream",
     "text": [
      "DataFrame example: /coug1 desired heading\n",
      "     header.stamp.sec  header.stamp.nanosec  header.frame_id  desired_heading\n",
      "0          1745016180             138876016              NaN              0.0\n",
      "1          1745016180             639011328              NaN              0.0\n",
      "2          1745016181             139004386              NaN              0.0\n",
      "3          1745016181             638981945              NaN              0.0\n",
      "4          1745016182             139015965              NaN              0.0\n",
      "..                ...                   ...              ...              ...\n",
      "543        1745016451             639018463              NaN              0.0\n",
      "544        1745016452             139030950              NaN              0.0\n",
      "545        1745016452             638966761              NaN              0.0\n",
      "546        1745016453             138970934              NaN              0.0\n",
      "547        1745016453             639009900              NaN              0.0\n",
      "\n",
      "[548 rows x 4 columns]\n"
     ]
    }
   ],
   "source": [
    "# Display a dataframe\n",
    "ns = VEHCILE_NAMESPACES[0]\n",
    "print(f\"DataFrame example: {ns} desired heading\")\n",
    "sampleDf = dfsByTopic[ns+\"/desired_heading\"]\n",
    "print(sampleDf)"
   ]
  },
  {
   "cell_type": "code",
   "execution_count": 15,
   "id": "3a99cad2",
   "metadata": {},
   "outputs": [
    {
     "name": "stdout",
     "output_type": "stream",
     "text": [
      "basestation timeframe:\t2025-04-18 22:42:43.255680539 --- 2025-04-18 22:44:36.028592480\n",
      "/coug1 timeframe:\t2025-04-18 22:42:59.484101776 --- 2025-04-18 22:47:33.937215951\n",
      "/coug2 timeframe:\t2025-04-18 22:43:00.784466207 --- 2025-04-18 22:46:55.201137650\n"
     ]
    }
   ],
   "source": [
    "# convert ros timestamps to pandas timestamps\n",
    "\n",
    "for df in dfsByTopic.values():\n",
    "    if \"header.stamp.sec\" in df.columns: \n",
    "        df[\"timestamp\"] = pd.to_datetime(\n",
    "            df[\"header.stamp.sec\"] * 1_000_000_000 \n",
    "            + df[\"header.stamp.nanosec\"], unit='ns'\n",
    "        )\n",
    "\n",
    "bst_timestamps = dfsByTopic[\"/modem_status\"][\"timestamp\"]\n",
    "print(f\"basestation timeframe:\\t{bst_timestamps.min()} --- {bst_timestamps.max()}\")\n",
    "for ns in VEHCILE_NAMESPACES:\n",
    "    timestamps = dfsByTopic[ns+'/modem_status']['timestamp']\n",
    "    print(f\"{ns} timeframe:\\t{timestamps.min()} --- {timestamps.max()}\")"
   ]
  },
  {
   "cell_type": "code",
   "execution_count": null,
   "id": "89229bdb",
   "metadata": {},
   "outputs": [
    {
     "name": "stdout",
     "output_type": "stream",
     "text": [
      "-2.7295016804529597 1.6659048262172595 4.71238898038469\n",
      "-3.856569546679992 -7.872333218148306 3.141592653589793\n"
     ]
    },
    {
     "data": {
      "image/png": "[encoded data removed]",
      "text/plain": [
       "<Figure size 640x480 with 1 Axes>"
      ]
     },
     "metadata": {},
     "output_type": "display_data"
    }
   ],
   "source": [
    "AVG_DELTA = 1\n",
    "from math import sin, cos, pi\n",
    "\n",
    "avg_delta = pd.Timedelta(seconds=AVG_DELTA)\n",
    "\n",
    "for c, ns in zip(['r','g'],VEHCILE_NAMESPACES):\n",
    "    gps_odom = dfsByTopic[ns+'/gps_odom']\n",
    "    modem_status = dfsByTopic[ns+'/modem_status']\n",
    "    dvl_dr = dfsByTopic[ns+'/dvl/dead_reckoning']\n",
    "    \n",
    "    # get start time\n",
    "    dvl_start_time = dvl_dr['timestamp'].iloc[0]\n",
    "    gps_start_time = gps_odom['timestamp'].iloc[0]\n",
    "    modem_start_time = modem_status['timestamp'].iloc[0]\n",
    "    start_time = max(max(dvl_start_time, gps_start_time), modem_start_time)\n",
    "    start_gps_odom = gps_odom[(gps_odom['timestamp']>start_time-avg_delta)\n",
    "                       & (gps_odom['timestamp']<start_time+avg_delta)]\n",
    "    start_imu = modem_status[(modem_status['timestamp']>start_time-avg_delta)\n",
    "                             & (modem_status['timestamp']<start_time+avg_delta)]\n",
    "    start_dvl = dvl_dr[(dvl_dr['timestamp']>start_time-avg_delta)\n",
    "                       & (dvl_dr['timestamp']<start_time+avg_delta)]\n",
    "    # get parameters\n",
    "    start_y = start_gps_odom[\"pose.pose.position.x\"].mean()\n",
    "    start_x = start_gps_odom[\"pose.pose.position.y\"].mean()\n",
    "    start_dir = {\"/coug1\":3*pi/2, \"/coug2\":pi}[ns]\n",
    "    # start_dir = pi/2-pi/180*0.1*start_imu[\"attitude_yaw\"].mean()\n",
    "    start_x_ofs = start_dvl[\"pose.pose.position.x\"].mean()\n",
    "    start_y_ofs = start_dvl[\"pose.pose.position.y\"].mean()\n",
    "    dr_x = dvl_dr['pose.pose.position.x'] - start_x_ofs\n",
    "    dr_y = dvl_dr['pose.pose.position.y'] - start_y_ofs\n",
    "\n",
    "    modem_dir = pi/180*0.1*start_imu[\"attitude_yaw\"].mean()\n",
    "    print(f\"{modem_dir} --> {start_dir}. diff={modem_dir-start_dir}\")\n",
    "    x = start_x + cos(start_dir)*dr_x - sin(start_dir)*dr_y\n",
    "    y = start_y + sin(start_dir)*dr_x + cos(start_dir)*dr_y\n",
    "    plt.plot(x,y,c+'-')\n",
    "    plt.plot([start_x],[start_y],c+'o', markersize=1)\n",
    "plt.axis('equal')\n",
    "plt.show()\n",
    "\n",
    "        "
   ]
  }
 ],
 "metadata": {
  "kernelspec": {
   "display_name": "Python 3",
   "language": "python",
   "name": "python3"
  },
  "language_info": {
   "codemirror_mode": {
    "name": "ipython",
    "version": 3
   },
   "file_extension": ".py",
   "mimetype": "text/x-python",
   "name": "python",
   "nbconvert_exporter": "python",
   "pygments_lexer": "ipython3",
   "version": "3.10.12"
  }
 },
 "nbformat": 4,
 "nbformat_minor": 5
}
