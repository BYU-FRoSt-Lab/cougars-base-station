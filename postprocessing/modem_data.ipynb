{
 "cells": [
  {
   "cell_type": "markdown",
   "id": "d9261b57",
   "metadata": {},
   "source": [
    "# Coug Data Visualization"
   ]
  },
  {
   "cell_type": "code",
   "execution_count": 1,
   "id": "1e526fd6",
   "metadata": {},
   "outputs": [
    {
     "name": "stderr",
     "output_type": "stream",
     "text": [
      "/home/claytonsmith/.local/lib/python3.10/site-packages/matplotlib/projections/__init__.py:63: UserWarning: Unable to import Axes3D. This may be due to multiple versions of Matplotlib being installed (e.g. as a system package and as a pip package). As a result, the 3D projection is not available.\n",
      "  warnings.warn(\"Unable to import Axes3D. This may be due to multiple versions of \"\n",
      "/usr/lib/python3/dist-packages/scipy/__init__.py:146: UserWarning: A NumPy version >=1.17.3 and <1.25.0 is required for this version of SciPy (detected version 1.25.0\n",
      "  warnings.warn(f\"A NumPy version >={np_minversion} and <{np_maxversion}\"\n"
     ]
    }
   ],
   "source": [
    "# imports\n",
    "import rosbags_converter as rc\n",
    "import pandas as pd\n",
    "import numpy as np\n",
    "import matplotlib.pyplot as plt\n",
    "from seatrac_enums import CST_E\n",
    "from matplotlib.ticker import MaxNLocator\n",
    "from scipy.stats import linregress"
   ]
  },
  {
   "cell_type": "code",
   "execution_count": 2,
   "id": "13ffca50",
   "metadata": {},
   "outputs": [],
   "source": [
    "# User Variables\n",
    "\n",
    "ROSBAGS_DIR = \"~/so_apr_18_bags\"\n",
    "SAVES_DIR = \"converted_bags\"\n",
    "\n",
    "MISSION_KEYWORDS = [\"5.5\"]\n",
    "VEHCILE_NAMESPACES = [\"/coug1\", \"/coug2\", \"/coug3\"]\n",
    "VEHICLE_IDS = [1,2]\n",
    "\n",
    "VERBOSE=True"
   ]
  },
  {
   "cell_type": "code",
   "execution_count": 3,
   "id": "d174e5ec",
   "metadata": {},
   "outputs": [
    {
     "name": "stdout",
     "output_type": "stream",
     "text": [
      "Loading /home/claytonsmith/Documents/cougUV/CoUGARs/cougars-base-station/postprocessing/converted_bags/coug3_bluey/converted__SO_5.5_multi-2025-04-04-20-54-41\n",
      "Loading /home/claytonsmith/Documents/cougUV/CoUGARs/cougars-base-station/postprocessing/converted_bags/base_station/converted__SO_5.5_multi\n",
      "Loading /home/claytonsmith/Documents/cougUV/CoUGARs/cougars-base-station/postprocessing/converted_bags/coug1/converted__so_5.5_multi-2025-04-18-16-42-57\n",
      "Loading /home/claytonsmith/Documents/cougUV/CoUGARs/cougars-base-station/postprocessing/converted_bags/coug2/converted__SO_5.5_multi-2025-04-18-16-42-59\n"
     ]
    }
   ],
   "source": [
    "# Convert Rosbags\n",
    "dataframes = rc.load_dataframes(SAVES_DIR, keywords=MISSION_KEYWORDS, verbose=True)\n",
    "if len(dataframes)==0:\n",
    "    print(\"converting rosbags\")\n",
    "    typestore = rc.generate_typestore(\"../../cougars-ros2/src\")\n",
    "    dataframes = rc.convert_rosbags(ROSBAGS_DIR, typestore, \n",
    "                                    keywords=MISSION_KEYWORDS,verbose=VERBOSE)\n",
    "    rc.save_to_csv(dataframes, SAVES_DIR, verbose=VERBOSE)\n",
    "    dataframes = rc.load_dataframes(SAVES_DIR, keywords=MISSION_KEYWORDS)"
   ]
  },
  {
   "cell_type": "code",
   "execution_count": 4,
   "id": "a96ae6b2",
   "metadata": {},
   "outputs": [
    {
     "name": "stdout",
     "output_type": "stream",
     "text": [
      "coug3_bluey/converted__SO_5.5_multi-2025-04-04-20-54-41:\n",
      "\t['/coug3/dvl/data', '/coug3/modem_rec', '/coug3/dvl/position', '/coug3/modem_status', '/coug3/dvl/velocity', '/coug3/depth_data', '/coug3/dvl/dead_reckoning', '/coug3/modem_imu', '/coug3/pressure/data', '/tf', '/coug3/dvl/dr_global']\n",
      "base_station/converted__SO_5.5_multi:\n",
      "\t['/modem_rec', '/modem_send', '/modem_status', '/modem_cmd_update']\n",
      "coug1/converted__so_5.5_multi-2025-04-18-16-42-57:\n",
      "\t['/coug1/extended_fix', '/coug1/dvl/dr_global', '/coug1/modem_rec', '/coug1/controls/command', '/coug1/dvl/dead_reckoning', '/coug1/gps_odom', '/coug1/desired_heading', '/coug1/modem_status', '/coug1/modem_imu', '/coug1/leak/data', '/coug1/safety_status', '/coug1/controls/debug', '/coug1/fix', '/coug1/pressure/data', '/coug1/battery/data', '/coug1/depth_data', '/tf', '/coug1/dvl/position', '/coug1/kinematics/command', '/coug1/desired_speed', '/coug1/desired_depth']\n",
      "coug2/converted__SO_5.5_multi-2025-04-18-16-42-59:\n",
      "\t['/coug2/desired_heading', '/coug2/controls/command', '/coug2/controls/debug', '/coug2/fix', '/coug2/dvl/dr_global', '/coug2/dvl/position', '/coug2/leak/data', '/coug2/safety_status', '/coug2/depth_data', '/coug2/battery/data', '/coug2/pressure/data', '/coug2/extended_fix', '/coug2/gps_odom', '/coug2/dvl/dead_reckoning', '/coug2/modem_rec', '/coug2/modem_status', '/coug2/modem_imu', '/coug2/desired_depth', '/coug2/kinematics/command', '/tf', '/coug2/desired_speed', '/tf_static']\n"
     ]
    }
   ],
   "source": [
    "# display topics by rosbag\n",
    "for path, topics in dataframes.items():\n",
    "    print(f\"{path}:\\n\\t{list(topics.keys())}\")"
   ]
  },
  {
   "cell_type": "code",
   "execution_count": 5,
   "id": "6b952913",
   "metadata": {},
   "outputs": [
    {
     "name": "stdout",
     "output_type": "stream",
     "text": [
      "['/coug3/dvl/data', '/coug3/modem_rec', '/coug3/dvl/position', '/coug3/modem_status', '/coug3/dvl/velocity', '/coug3/depth_data', '/coug3/dvl/dead_reckoning', '/coug3/modem_imu', '/coug3/pressure/data', '/tf', '/coug3/dvl/dr_global', '/modem_rec', '/modem_send', '/modem_status', '/modem_cmd_update', '/coug1/extended_fix', '/coug1/dvl/dr_global', '/coug1/modem_rec', '/coug1/controls/command', '/coug1/dvl/dead_reckoning', '/coug1/gps_odom', '/coug1/desired_heading', '/coug1/modem_status', '/coug1/modem_imu', '/coug1/leak/data', '/coug1/safety_status', '/coug1/controls/debug', '/coug1/fix', '/coug1/pressure/data', '/coug1/battery/data', '/coug1/depth_data', '/coug1/dvl/position', '/coug1/kinematics/command', '/coug1/desired_speed', '/coug1/desired_depth', '/coug2/desired_heading', '/coug2/controls/command', '/coug2/controls/debug', '/coug2/fix', '/coug2/dvl/dr_global', '/coug2/dvl/position', '/coug2/leak/data', '/coug2/safety_status', '/coug2/depth_data', '/coug2/battery/data', '/coug2/pressure/data', '/coug2/extended_fix', '/coug2/gps_odom', '/coug2/dvl/dead_reckoning', '/coug2/modem_rec', '/coug2/modem_status', '/coug2/modem_imu', '/coug2/desired_depth', '/coug2/kinematics/command', '/coug2/desired_speed', '/tf_static']\n"
     ]
    }
   ],
   "source": [
    "# lists dataframes by topic. \n",
    "# Assumes all vehicles have only one loaded mission and different namespaces\n",
    "# Check previous cell output to confirm this is the case\n",
    "dfsByTopic = {}\n",
    "for topic_dfs in dataframes.values(): dfsByTopic.update(topic_dfs)\n",
    "print(list(dfsByTopic.keys()))"
   ]
  },
  {
   "cell_type": "code",
   "execution_count": 6,
   "id": "5a2f6f45",
   "metadata": {},
   "outputs": [
    {
     "name": "stdout",
     "output_type": "stream",
     "text": [
      "DataFrame example: /coug1 desired heading\n",
      "     header.stamp.sec  header.stamp.nanosec  header.frame_id  desired_heading\n",
      "0          1745016180             138876016              NaN              0.0\n",
      "1          1745016180             639011328              NaN              0.0\n",
      "2          1745016181             139004386              NaN              0.0\n",
      "3          1745016181             638981945              NaN              0.0\n",
      "4          1745016182             139015965              NaN              0.0\n",
      "..                ...                   ...              ...              ...\n",
      "543        1745016451             639018463              NaN              0.0\n",
      "544        1745016452             139030950              NaN              0.0\n",
      "545        1745016452             638966761              NaN              0.0\n",
      "546        1745016453             138970934              NaN              0.0\n",
      "547        1745016453             639009900              NaN              0.0\n",
      "\n",
      "[548 rows x 4 columns]\n"
     ]
    }
   ],
   "source": [
    "# Display a dataframe\n",
    "ns = VEHCILE_NAMESPACES[0]\n",
    "print(f\"DataFrame example: {ns} desired heading\")\n",
    "sampleDf = dfsByTopic[ns+\"/desired_heading\"]\n",
    "print(sampleDf)"
   ]
  },
  {
   "cell_type": "code",
   "execution_count": 7,
   "id": "3a99cad2",
   "metadata": {},
   "outputs": [
    {
     "name": "stdout",
     "output_type": "stream",
     "text": [
      "basestation timeframe:\t2025-04-18 22:42:43.255680539 --- 2025-04-18 22:44:36.028592480\n",
      "/coug1 timeframe:\t2025-04-18 22:42:59.484101776 --- 2025-04-18 22:47:33.937215951\n",
      "/coug2 timeframe:\t2025-04-18 22:43:00.784466207 --- 2025-04-18 22:46:55.201137650\n",
      "/coug3 timeframe:\t2025-04-04 19:54:42.331409795 --- 2025-04-04 19:56:28.605630261\n"
     ]
    }
   ],
   "source": [
    "# convert ros timestamps to pandas timestamps\n",
    "\n",
    "for df in dfsByTopic.values():\n",
    "    if \"header.stamp.sec\" in df.columns: \n",
    "        df[\"timestamp\"] = pd.to_datetime(\n",
    "            df[\"header.stamp.sec\"] * 1_000_000_000 \n",
    "            + df[\"header.stamp.nanosec\"], unit='ns'\n",
    "        )\n",
    "\n",
    "bst_timestamps = dfsByTopic[\"/modem_status\"][\"timestamp\"]\n",
    "print(f\"basestation timeframe:\\t{bst_timestamps.min()} --- {bst_timestamps.max()}\")\n",
    "for ns in VEHCILE_NAMESPACES:\n",
    "    timestamps = dfsByTopic[ns+'/modem_status']['timestamp']\n",
    "    print(f\"{ns} timeframe:\\t{timestamps.min()} --- {timestamps.max()}\")"
   ]
  },
  {
   "cell_type": "code",
   "execution_count": 8,
   "id": "7a0aa6b2",
   "metadata": {},
   "outputs": [
    {
     "data": {
      "image/png": "[encoded data removed]",
      "text/plain": [
       "<Figure size 700x200 with 1 Axes>"
      ]
     },
     "metadata": {},
     "output_type": "display_data"
    }
   ],
   "source": [
    "# Base station pings over time with responses (check time sync err)\n",
    "bst_rec = dfsByTopic[\"/modem_rec\"]\n",
    "bst_cmd = dfsByTopic[\"/modem_cmd_update\"]\n",
    "bst_send = bst_cmd[bst_cmd[\"command_status_code\"]==CST_E.CST_OK]\n",
    "bst_err = bst_cmd[bst_cmd[\"command_status_code\"]!=CST_E.CST_OK]\n",
    "\n",
    "fig, ax = plt.subplots(figsize=(7, 2))\n",
    "ax.plot(bst_send[\"timestamp\"], bst_send[\"target_id\"], 'bo')\n",
    "ax.plot(bst_rec[\"timestamp\"], bst_rec[\"src_id\"], 'go')\n",
    "ax.plot(bst_err[\"timestamp\"], bst_err[\"target_id\"], 'ro')\n",
    "\n",
    "for id_, ns in zip(VEHICLE_IDS, VEHCILE_NAMESPACES):\n",
    "    v_rec = dfsByTopic[ns+'/modem_rec']\n",
    "    v_rec = v_rec[(v_rec[\"dest_id\"]==id_) & \n",
    "                  (v_rec[\"timestamp\"]<=bst_send[\"timestamp\"].max())]\n",
    "    ax.plot(v_rec[\"timestamp\"], v_rec[\"dest_id\"], 'o', color='orange')\n",
    "\n",
    "v_rec = v_rec[v_rec[\"range_dist\"]>40]\n",
    "\n",
    "ax.yaxis.set_major_locator(MaxNLocator(integer=True))\n",
    "plt.show()"
   ]
  }
 ],
 "metadata": {
  "kernelspec": {
   "display_name": "Python 3",
   "language": "python",
   "name": "python3"
  },
  "language_info": {
   "codemirror_mode": {
    "name": "ipython",
    "version": 3
   },
   "file_extension": ".py",
   "mimetype": "text/x-python",
   "name": "python",
   "nbconvert_exporter": "python",
   "pygments_lexer": "ipython3",
   "version": "3.10.12"
  }
 },
 "nbformat": 4,
 "nbformat_minor": 5
}
